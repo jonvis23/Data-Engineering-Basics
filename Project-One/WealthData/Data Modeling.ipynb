{
 "cells": [
  {
   "cell_type": "code",
   "execution_count": 2,
   "metadata": {},
   "outputs": [],
   "source": [
    "import psycopg2\n",
    "import pandas as pd"
   ]
  },
  {
   "cell_type": "code",
   "execution_count": null,
   "metadata": {},
   "outputs": [],
   "source": [
    "def create_database():\n",
    "    #connect to default database\n",
    "    #conn = psycopg2.connect('host=127.0.0.1 dbname=name user=name_user password=enter_pswd')\n",
    "    conn = psycopg2.connect(\"host=127.0.0.1 dbname=postgres user=postgres password=root\")\n",
    "    conn.set_session(autocommit=True)\n",
    "    cur = conn.cursor()\n",
    "\n",
    "    # create sparkify db with utf8 encoding\n",
    "    cur.excute(\"DROP DATABASE accounts\")\n",
    "    cur.excute(\"CREATE DATABASE accounts\")\n",
    "    \n",
    "    # close connection to default db\n",
    "    conn.close()\n",
    "\n",
    "    # connect to spakify db\n",
    "    conn = psycopg2.connect('host=127.0.0.1 dbname=postgres user=postgres password=root')\n",
    "    cur = conn.cursor()\n",
    "\n",
    "    return cur, conn\n",
    "\n"
   ]
  },
  {
   "cell_type": "code",
   "execution_count": null,
   "metadata": {},
   "outputs": [],
   "source": [
    "def drop_tables (cur, conn) :\n",
    "    for query in drop_table_queries:\n",
    "        cur.execute(query)\n",
    "        conn.commit()"
   ]
  },
  {
   "cell_type": "code",
   "execution_count": null,
   "metadata": {},
   "outputs": [],
   "source": [
    "def create_tables (cur, conn) :\n",
    "    for query in create_table_queries:\n",
    "        cur.execute(query)\n",
    "        conn.commit()"
   ]
  },
  {
   "cell_type": "code",
   "execution_count": 2,
   "metadata": {},
   "outputs": [],
   "source": [
    "AccountsCountry = pd.read_csv(\"Project-One\\WealthData\\Wealth-AccountData.csv\")\n"
   ]
  },
  {
   "cell_type": "code",
   "execution_count": null,
   "metadata": {},
   "outputs": [],
   "source": []
  }
 ],
 "metadata": {
  "kernelspec": {
   "display_name": "Python 3.9.12 ('base')",
   "language": "python",
   "name": "python3"
  },
  "language_info": {
   "codemirror_mode": {
    "name": "ipython",
    "version": 3
   },
   "file_extension": ".py",
   "mimetype": "text/x-python",
   "name": "python",
   "nbconvert_exporter": "python",
   "pygments_lexer": "ipython3",
   "version": "3.9.12"
  },
  "orig_nbformat": 4,
  "vscode": {
   "interpreter": {
    "hash": "31b4ee29e45cf71f5a158e34067ec8a7a60d9daad9cdb86ca6713becaa589907"
   }
  }
 },
 "nbformat": 4,
 "nbformat_minor": 2
}
